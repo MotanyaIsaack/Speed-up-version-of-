{
 "cells": [
  {
   "cell_type": "code",
   "execution_count": 1,
   "metadata": {},
   "outputs": [],
   "source": [
    "%matplotlib inline\n",
    "# Importing standard Qiskit libraries and configuring account\n",
    "from qiskit import QuantumCircuit, execute, Aer, IBMQ\n",
    "from qiskit.compiler import transpile, assemble\n",
    "#from qiskit.tools.jupyter import *\n",
    "from qiskit.visualization import *\n",
    "\n",
    "import sys\n",
    "import types\n",
    "import pip\n",
    "import numpy as np\n",
    "import math\n",
    "import pandas as pd\n",
    "\n",
    "pi = math.pi\n",
    "\n",
    "#Connection with IBM Q systems (both physical and simulation)\n",
    "\n",
    "# Loading your IBM Q account(s)\n",
    "#provider = IBMQ.enable_account('a977738bf7ef3132730c858452468736136b011055c8488e3a0c780a47d9039f19285f1df35ff174d999f8902fcb6ec5cb0397811f70c74188569aa91117c350')\n",
    "import getpass, time\n",
    "from qiskit import QuantumCircuit, ClassicalRegister, QuantumRegister\n",
    "from qiskit import execute, Aer, IBMQ\n",
    "\n",
    "# import basic plot tools\n",
    "from qiskit.tools.visualization import *\n",
    "\n",
    "backend = Aer.get_backend('qasm_simulator')"
   ]
  },
  {
   "cell_type": "code",
   "execution_count": null,
   "metadata": {},
   "outputs": [],
   "source": [
    "df_data_1 = pd.read_csv('DataForQComparison.csv')\n",
    "df_data_1.head()\n",
    "dataset=df_data_1\n",
    "dataset['Teta']=np.arctan(dataset['Feature 1'].values.astype(int)/dataset['Feature 2'].values.astype(int))\n",
    "dataset['ID']=dataset.reset_index().index\n",
    "dataset.head(10)"
   ]
  },
  {
   "cell_type": "code",
   "execution_count": null,
   "metadata": {},
   "outputs": [],
   "source": [
    "dataset.shape"
   ]
  },
  {
   "cell_type": "code",
   "execution_count": null,
   "metadata": {},
   "outputs": [],
   "source": [
    "# Creating Quantum Circuit called “qc” involving your Quantum Register “qr”\n",
    "# and your Classical Register “cr”\n",
    "qr = QuantumRegister(3)\n",
    "cr = ClassicalRegister(3)\n",
    "qc = QuantumCircuit ( qr, cr, name=\"k_means\")\n",
    "\n",
    "#Circuit test\n",
    "#from the dataset we get the first and the 7th theta valuest\n",
    "i=0\n",
    "j=7\n",
    "\n",
    "theta_1 = dataset.at[i,'Teta']\n",
    "theta_2 = dataset.at[i+j,'Teta']\n",
    "#Compose the quantum circuit via qiskit\n",
    "#apply the first Hadamard gate to the ancilla qubit\n",
    "qc.h(qr[1])\n",
    "#apply the U3 gates to the controlled qubits\n",
    "qc.u3(theta_1, pi, pi, qr[0])\n",
    "qc.u3(theta_2, pi, pi, qr[2])\n",
    "#apply the c-swap circuit\n",
    "qc.cswap(qr[1], qr[0], qr[2])\n",
    "#apply the second Hadamard gate to the ancilla qubit\n",
    "qc.h(qr[1])\n",
    "#make the measurement\n",
    "qc.measure(qr[1], cr[1])\n",
    "\n",
    "job_exp = execute(qc, backend=backend, shots=4096)\n",
    "result = job_exp.result()\n",
    "print(result)"
   ]
  },
  {
   "cell_type": "code",
   "execution_count": null,
   "metadata": {},
   "outputs": [],
   "source": [
    "circuit_drawer(qc)"
   ]
  },
  {
   "cell_type": "code",
   "execution_count": null,
   "metadata": {},
   "outputs": [],
   "source": [
    "print(result.get_counts(qc))"
   ]
  },
  {
   "cell_type": "code",
   "execution_count": null,
   "metadata": {},
   "outputs": [],
   "source": [
    "plot_histogram(result.get_counts(qc))"
   ]
  },
  {
   "cell_type": "code",
   "execution_count": null,
   "metadata": {},
   "outputs": [],
   "source": [
    "# State vector visualizing\n",
    "\n",
    "#state_vec_sim_bck=”statevector_simulator”\n",
    "state_vec_sim_bck=Aer.get_backend('statevector_simulator')\n",
    "\n",
    "n = 3 \n",
    "# number of qubits\n",
    "q = QuantumRegister(n)\n",
    "c = ClassicalRegister(n)\n",
    "\n",
    "i=0\n",
    "j=7\n",
    "\n",
    "qc = QuantumCircuit(q, c, name=\"State_super\")\n",
    "#theta_1 = dataset.at[i,’Teta’]theta_1=0\n",
    "Theta_2=2\n",
    "#theta_2 = dataset.at[i+j,’Teta’]#Compose the quantum circuit via qiskit\n",
    "qc.h(q[1])\n",
    "qc.h(q[0])\n",
    "qc.h(q[2])\n",
    "\n",
    "qc.u3(theta_1, pi, pi, q[0])\n",
    "qc.u3(theta_2, pi, pi, q[2])\n",
    "qc.cswap(q[1], q[0], q[2])\n",
    "qc.h(q[1])\n",
    "\n",
    "# execute the quantum circuit\n",
    "job = execute(qc, backend=state_vec_sim_bck)\n",
    "state_superposition = job.result().get_statevector(qc)\n",
    "\n",
    "#The overall matrix defining the whole circuit\n",
    "#_Coefficients_\n",
    "\n",
    "def overlap(state1, state2):\n",
    "     return round(np.dot(state1.conj(), state2))\n",
    "\n",
    "print(state_superposition)\n",
    "\n",
    "overlap(state_superposition, state_superposition)"
   ]
  },
  {
   "cell_type": "code",
   "execution_count": null,
   "metadata": {},
   "outputs": [],
   "source": [
    "#_probability density_\n",
    "\n",
    "def state_2_rho(state):\n",
    "    return np.outer(state, state.conj())\n",
    "\n",
    "rho_superposition=state_2_rho(state_superposition)\n",
    "print(rho_superposition)"
   ]
  },
  {
   "cell_type": "code",
   "execution_count": null,
   "metadata": {},
   "outputs": [],
   "source": [
    "rho_superposition=state_2_rho(state_superposition)\n",
    "print(rho_superposition)"
   ]
  },
  {
   "cell_type": "code",
   "execution_count": null,
   "metadata": {},
   "outputs": [],
   "source": [
    "from qiskit.tools.visualization import plot_state_city, plot_bloch_multivector, plot_state_paulivec, plot_state_hinton, plot_state_qsphere \n",
    "plot_state_city(rho_superposition, figsize=(20,10), title=\"Circuit\", color=['blue', 'orange'])\n",
    "#plot_state(rho_superposition,’city’)"
   ]
  },
  {
   "cell_type": "code",
   "execution_count": null,
   "metadata": {},
   "outputs": [],
   "source": [
    "plot_state_hinton(state_superposition)"
   ]
  },
  {
   "cell_type": "code",
   "execution_count": null,
   "metadata": {},
   "outputs": [],
   "source": [
    "plot_bloch_multivector(state_superposition)"
   ]
  },
  {
   "cell_type": "code",
   "execution_count": null,
   "metadata": {},
   "outputs": [],
   "source": [
    "plot_state_qsphere(state_superposition)"
   ]
  },
  {
   "cell_type": "code",
   "execution_count": null,
   "metadata": {},
   "outputs": [],
   "source": [
    "import pandas as pd\n",
    "#In order to make a confrontation between the Euclidean and quantum distance we perform a double loop cycle in the dataset data getting the distance #(running the circuit) on all pairs of points.\n",
    "\n",
    "# Define result dataframe\n",
    "df_res = pd.DataFrame(columns=('I','J','Feature 1_i','Feature 1_j','Feature 2_i','Feature 2_j','Theta_i','Theta_j','Quantum_Distance','ClassicDistance'))\n",
    "\n",
    "#Define a loop to compute the distance between each pair of points\n",
    "\n",
    "elements=20\n",
    "\n",
    "#main cycle\n",
    "for i in range(0,elements):\n",
    "    for j in range(0,elements):\n",
    "      # Set the parament theta about different point\n",
    "        theta_1 = dataset.at[i,'Teta']\n",
    "        theta_2 = dataset.at[j,'Teta']\n",
    "ai_i = dataset.at[i,'Feature 1']\n",
    "ai_j = dataset.at[j,'Feature 1']\n",
    "sc_i = dataset.at[i,'Feature 2']\n",
    "sc_j = dataset.at[j,'Feature 2']\n",
    "qr = QuantumRegister(3)\n",
    "cr = ClassicalRegister(3)\n",
    "qc = QuantumCircuit ( qr, cr, name=\"k_means\")\n",
    "# Compose the quantum circuit via qiskit\n",
    "qc.h(qr[1])\n",
    "\n",
    "qc.u3(theta_1, pi, pi, qr[0])\n",
    "qc.u3(theta_2, pi, pi, qr[2])\n",
    "qc.cswap(qr[1], qr[0], qr[2])\n",
    "qc.h(qr[1])\n",
    "qc.measure(qr[1], cr[1])\n",
    "\n",
    "# eseguo il circuito costruito sulla coppia I,J\n",
    "job_exp = execute(qc, backend=backend, shots=2048)\n",
    "result = job_exp.result()\n",
    "# calculate the ratio between the 0 and tha one result in measure registry\n",
    "v1=result.get_counts(qc)['000']\n",
    "if '010' in result.get_counts(qc):\n",
    "    v2=result.get_counts(qc)['010']\n",
    "else: \n",
    "    v2=0\n",
    "prob=v2/(v1+v2) \n",
    "# Probability of obtaining 1 that is “quantum distance”\n",
    "# Classic distance calculation\n",
    "cl_dist=math.sqrt(((ai_i-ai_j)**2)+((sc_i-sc_j)**2))\n",
    "#Final output writing\n",
    "df_res = df_res.append({'I':i, 'J':j,'Feature 1_i':ai_i,'Feature 1_j':ai_j,'Feature 2_i':sc_i,'Feature 2_j':sc_j,'Theta_i':theta_1, 'Theta_j':theta_2, 'Quantum_Distance':prob,'ClassicDistance':cl_dist} , ignore_index=True)\n",
    "print('JOB Ended')"
   ]
  },
  {
   "cell_type": "code",
   "execution_count": null,
   "metadata": {},
   "outputs": [],
   "source": [
    "qc.draw()"
   ]
  },
  {
   "cell_type": "code",
   "execution_count": null,
   "metadata": {},
   "outputs": [],
   "source": [
    "df_res.to_csv('QuantumDistances.csv',index=False)\n",
    "\n",
    "df_res = pd.read_csv('QuantumDistances.csv')\n",
    "\n",
    "dataset=df_res\n",
    "dataset"
   ]
  },
  {
   "cell_type": "code",
   "execution_count": null,
   "metadata": {},
   "outputs": [],
   "source": [
    "#Calculation Correlation between Quantum and Classic Distance\n",
    "\n",
    "cor=dataset['Quantum_Distance'].corr(dataset['ClassicDistance'],method='pearson')\n",
    "print(\"{0:.0f}%\".format(cor * 100))"
   ]
  },
  {
   "cell_type": "code",
   "execution_count": null,
   "metadata": {},
   "outputs": [],
   "source": [
    "#Diagrams of correlation with Seaborn of a dataset with distances only\n",
    "\n",
    "dataset.drop(['Theta_i','Theta_j','I','J'], axis=1, inplace=True)\n",
    "\n",
    "# Determine the pairplot matrix for correlation verification\n",
    "import seaborn as sns\n",
    "sns.set(style=\"ticks\", color_codes=True)\n",
    "g = sns.pairplot(dataset)"
   ]
  },
  {
   "cell_type": "code",
   "execution_count": null,
   "metadata": {},
   "outputs": [],
   "source": []
  },
  {
   "cell_type": "code",
   "execution_count": null,
   "metadata": {},
   "outputs": [],
   "source": []
  }
 ],
 "metadata": {
  "kernelspec": {
   "display_name": "Python 3",
   "language": "python",
   "name": "python3"
  },
  "language_info": {
   "codemirror_mode": {
    "name": "ipython",
    "version": 3
   },
   "file_extension": ".py",
   "mimetype": "text/x-python",
   "name": "python",
   "nbconvert_exporter": "python",
   "pygments_lexer": "ipython3",
   "version": "3.7.3"
  }
 },
 "nbformat": 4,
 "nbformat_minor": 2
}
